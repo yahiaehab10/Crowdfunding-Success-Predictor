{
 "cells": [
  {
   "cell_type": "markdown",
   "metadata": {},
   "source": [
    "# Crowdfunding Success Predictor\n",
    "\n",
    "Contributors:\n",
    "- Yahia Ehab\n",
    "- Ahmed Hossam\n",
    "- Feras Nizar\n",
    "- Rita Emad"
   ]
  },
  {
   "cell_type": "code",
   "execution_count": null,
   "metadata": {},
   "outputs": [],
   "source": []
  }
 ],
 "metadata": {
  "language_info": {
   "name": "python"
  }
 },
 "nbformat": 4,
 "nbformat_minor": 2
}
